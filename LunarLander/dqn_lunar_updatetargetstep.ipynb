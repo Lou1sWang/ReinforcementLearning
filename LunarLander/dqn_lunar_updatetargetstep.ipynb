{
  "nbformat": 4,
  "nbformat_minor": 0,
  "metadata": {
    "colab": {
      "name": "dqn_lunar_updatetargetstep.ipynb",
      "provenance": []
    },
    "kernelspec": {
      "name": "python3",
      "display_name": "Python 3"
    }
  },
  "cells": [
    {
      "cell_type": "code",
      "metadata": {
        "colab": {
          "base_uri": "https://localhost:8080/"
        },
        "id": "54Rm_UT63mnb",
        "outputId": "d6569de6-e31c-479a-8af4-db38b197735c"
      },
      "source": [
        "!pip3 install box2d-py"
      ],
      "execution_count": 1,
      "outputs": [
        {
          "output_type": "stream",
          "text": [
            "Collecting box2d-py\n",
            "\u001b[?25l  Downloading https://files.pythonhosted.org/packages/87/34/da5393985c3ff9a76351df6127c275dcb5749ae0abbe8d5210f06d97405d/box2d_py-2.3.8-cp37-cp37m-manylinux1_x86_64.whl (448kB)\n",
            "\r\u001b[K     |▊                               | 10kB 14.5MB/s eta 0:00:01\r\u001b[K     |█▌                              | 20kB 8.3MB/s eta 0:00:01\r\u001b[K     |██▏                             | 30kB 7.8MB/s eta 0:00:01\r\u001b[K     |███                             | 40kB 6.5MB/s eta 0:00:01\r\u001b[K     |███▋                            | 51kB 4.7MB/s eta 0:00:01\r\u001b[K     |████▍                           | 61kB 5.0MB/s eta 0:00:01\r\u001b[K     |█████▏                          | 71kB 5.5MB/s eta 0:00:01\r\u001b[K     |█████▉                          | 81kB 5.3MB/s eta 0:00:01\r\u001b[K     |██████▋                         | 92kB 5.2MB/s eta 0:00:01\r\u001b[K     |███████▎                        | 102kB 5.4MB/s eta 0:00:01\r\u001b[K     |████████                        | 112kB 5.4MB/s eta 0:00:01\r\u001b[K     |████████▊                       | 122kB 5.4MB/s eta 0:00:01\r\u001b[K     |█████████▌                      | 133kB 5.4MB/s eta 0:00:01\r\u001b[K     |██████████▎                     | 143kB 5.4MB/s eta 0:00:01\r\u001b[K     |███████████                     | 153kB 5.4MB/s eta 0:00:01\r\u001b[K     |███████████▊                    | 163kB 5.4MB/s eta 0:00:01\r\u001b[K     |████████████▍                   | 174kB 5.4MB/s eta 0:00:01\r\u001b[K     |█████████████▏                  | 184kB 5.4MB/s eta 0:00:01\r\u001b[K     |█████████████▉                  | 194kB 5.4MB/s eta 0:00:01\r\u001b[K     |██████████████▋                 | 204kB 5.4MB/s eta 0:00:01\r\u001b[K     |███████████████▍                | 215kB 5.4MB/s eta 0:00:01\r\u001b[K     |████████████████                | 225kB 5.4MB/s eta 0:00:01\r\u001b[K     |████████████████▉               | 235kB 5.4MB/s eta 0:00:01\r\u001b[K     |█████████████████▌              | 245kB 5.4MB/s eta 0:00:01\r\u001b[K     |██████████████████▎             | 256kB 5.4MB/s eta 0:00:01\r\u001b[K     |███████████████████             | 266kB 5.4MB/s eta 0:00:01\r\u001b[K     |███████████████████▊            | 276kB 5.4MB/s eta 0:00:01\r\u001b[K     |████████████████████▌           | 286kB 5.4MB/s eta 0:00:01\r\u001b[K     |█████████████████████▏          | 296kB 5.4MB/s eta 0:00:01\r\u001b[K     |██████████████████████          | 307kB 5.4MB/s eta 0:00:01\r\u001b[K     |██████████████████████▋         | 317kB 5.4MB/s eta 0:00:01\r\u001b[K     |███████████████████████▍        | 327kB 5.4MB/s eta 0:00:01\r\u001b[K     |████████████████████████        | 337kB 5.4MB/s eta 0:00:01\r\u001b[K     |████████████████████████▉       | 348kB 5.4MB/s eta 0:00:01\r\u001b[K     |█████████████████████████▋      | 358kB 5.4MB/s eta 0:00:01\r\u001b[K     |██████████████████████████▎     | 368kB 5.4MB/s eta 0:00:01\r\u001b[K     |███████████████████████████     | 378kB 5.4MB/s eta 0:00:01\r\u001b[K     |███████████████████████████▊    | 389kB 5.4MB/s eta 0:00:01\r\u001b[K     |████████████████████████████▌   | 399kB 5.4MB/s eta 0:00:01\r\u001b[K     |█████████████████████████████▏  | 409kB 5.4MB/s eta 0:00:01\r\u001b[K     |██████████████████████████████  | 419kB 5.4MB/s eta 0:00:01\r\u001b[K     |██████████████████████████████▊ | 430kB 5.4MB/s eta 0:00:01\r\u001b[K     |███████████████████████████████▍| 440kB 5.4MB/s eta 0:00:01\r\u001b[K     |████████████████████████████████| 450kB 5.4MB/s \n",
            "\u001b[?25hInstalling collected packages: box2d-py\n",
            "Successfully installed box2d-py-2.3.8\n"
          ],
          "name": "stdout"
        }
      ]
    },
    {
      "cell_type": "code",
      "metadata": {
        "id": "TPHwzXC63o7V"
      },
      "source": [
        "\n",
        "\"\"\"\n",
        "Import Libraryies\n",
        "\"\"\"\n",
        "import gym\n",
        "import numpy as np\n",
        "import collections\n",
        "import random\n",
        "import keras\n",
        "from keras.models import Sequential\n",
        "from keras.layers import Dense\n",
        "from keras.optimizers import Adam\n",
        "import tensorflow as tf\n",
        "from tensorflow.python.framework.ops import disable_eager_execution\n",
        "\n",
        "disable_eager_execution()\n"
      ],
      "execution_count": 2,
      "outputs": []
    },
    {
      "cell_type": "code",
      "metadata": {
        "id": "Q1rlD5-23o_C"
      },
      "source": [
        "class DQNAgent:\n",
        "\n",
        "    def __init__(self, n_states, n_actions, lr, gamma, ep, min_epsilon,ep_decay):\n",
        "        \n",
        "        \"\"\"\n",
        "        parameters\n",
        "        \"\"\"\n",
        "        # environment\n",
        "        self.n_states = n_states\n",
        "        self.n_actions = n_actions\n",
        "        \n",
        "        # parameters\n",
        "        self.gamma = gamma # discount factor\n",
        "        self.epsilon = ep  # exploration rate\n",
        "        self.epsilon_min = min_epsilon\n",
        "        self.epsilon_decay = ep_decay\n",
        "        self.learning_rate = lr\n",
        "        self.memory = collections.deque(maxlen =50000)\n",
        "        self.replay_count = 0\n",
        "        \n",
        "        # local network and target network\n",
        "        self.q_local = self.build_dqn()\n",
        "        self.q_target = self.build_dqn()\n",
        "\n",
        "        \n",
        "  \n",
        "    def memorize(self, state, action, reward, next_state, done):\n",
        "        \n",
        "        self.memory.append((state, action, reward, next_state, done))\n",
        "    \n",
        "    def update(self):\n",
        "     # print(\"update target network\")\n",
        "      self.q_target.set_weights(self.q_local.get_weights())\n",
        "  \n",
        "    def select_action(self, state):\n",
        "        if np.random.rand()<=self.epsilon:\n",
        "            return np.random.choice(self.n_actions)\n",
        "        return np.argmax(self.q_local.predict(state)[0])\n",
        "    \n",
        "    def select_action_test(self, state):\n",
        "        return np.argmax(self.q_local.predict(state)[0])\n",
        "    \n",
        "    def replay(self, batch_size,step):\n",
        "        batch = random.sample(self.memory, batch_size)\n",
        "        #target_f = self.model.predict_on_batch(batch[0])\n",
        "        \n",
        "        \n",
        "        states = []\n",
        "        actions = []\n",
        "        next_states = []\n",
        "        rewards = []\n",
        "        finishes = []\n",
        "        for state, action, reward, next_state, done in batch:\n",
        "            states.append(state)\n",
        "            actions.append(action)\n",
        "            next_states.append(next_state)\n",
        "            rewards.append(reward)\n",
        "            finishes.append(done)\n",
        "        states = np.array(states)\n",
        "        actions = np.array(actions)\n",
        "        next_states = np.array(next_states)\n",
        "        rewards = np.array(rewards)\n",
        "        finishes = np.array(finishes)\n",
        "        states = np.squeeze(states)\n",
        "        next_states = np.squeeze(next_states)\n",
        "        \n",
        "        q_vals_next_state = self.q_target.predict_on_batch(next_states)\n",
        "        q_vals_target = self.q_local.predict_on_batch(states)\n",
        "        \n",
        "        max_q_values_next_state = np.amax(q_vals_next_state, axis=1)\n",
        "        q_vals_target[np.arange(batch_size), actions] = rewards + self.gamma * (max_q_values_next_state) * (1 - finishes)\n",
        "        self.q_local.fit(states, q_vals_target, verbose=0)\n",
        "        self.replay_count += 1\n",
        "\n",
        "        \n",
        "        if 0<=step<=50:\n",
        "            self.epsilon = 0.5\n",
        "        elif 50<step<=100:\n",
        "            self.epsilon = 0.3\n",
        "        elif 100<step<=300:\n",
        "            self.epsilon = 0.2\n",
        "        elif 300<step<=500:\n",
        "            self.epsilon = 0.1\n",
        "        elif 500<step<=1000:\n",
        "            self.epsilon = 0.05\n",
        "        else:\n",
        "            self.epsilon = 0.01\n",
        "    \n",
        "    def build_dqn(self):      \n",
        "        \"\"\"\n",
        "        Q-function Approximator\n",
        "        \"\"\"\n",
        "        model = Sequential()\n",
        "        model.add(Dense(32, input_dim = self.n_states, activation='relu'))\n",
        "        model.add(Dense(64,  activation='relu'))\n",
        "        model.add(Dense(self.n_actions, activation='linear'))\n",
        "        model.compile(loss='mse', optimizer = Adam(lr=self.learning_rate))\n",
        "        return model\n",
        "\n",
        "    def save_model(self, name):\n",
        "        self.q_local.save(name)"
      ],
      "execution_count": 3,
      "outputs": []
    },
    {
      "cell_type": "code",
      "metadata": {
        "colab": {
          "base_uri": "https://localhost:8080/"
        },
        "id": "kNVGS_R23pBL",
        "outputId": "7cf3fc4a-3396-4304-bd84-4a445f4f9f0f"
      },
      "source": [
        "\"\"\"\n",
        "Parameters\n",
        "\"\"\"\n",
        "\n",
        "MAX_MOVES =1000\n",
        "AVG_REWARD_LEN = 100\n",
        "TARGET_AVG_REWARD = 200\n",
        "BATCH_SIZE = 64\n",
        "LEARNING_RATE = 0.001\n",
        "GAMMA = 0.99\n",
        "EPSILON = 1.0\n",
        "MIN_EPSILON = 0.01\n",
        "EPSILON_DECAY = 0.05\n",
        "#TARGET_UPDATE = 20\n",
        "\"\"\"\n",
        "Randomization Seeds\n",
        "\"\"\"\n",
        "random_seed = 0\n",
        "\n",
        "np.random.seed(random_seed)\n",
        "random.seed(random_seed)\n",
        "tf.random.set_seed(random_seed)\n",
        "\"\"\"\n",
        "Environment\n",
        "\"\"\"\n",
        "env = gym.make(\"LunarLander-v2\")\n",
        "n_states = env.observation_space.shape[0]\n",
        "n_actions = env.action_space.n\n",
        "print(f\"There are {n_states} states and {n_actions} actions in the Environment\")\n",
        "\n",
        "done = False\n",
        "batch_size = BATCH_SIZE\n",
        "\n",
        "e = 0\n",
        "\n",
        "\"\"\"\n",
        "Training DQN\n",
        "\"\"\"\n",
        "rewards_array = collections.defaultdict(list)\n",
        "for TARGET_UPDATE in [10,20,30]:\n",
        "  agent = DQNAgent(n_states, n_actions, lr = LEARNING_RATE,gamma = GAMMA, ep = EPSILON, min_epsilon = MIN_EPSILON,ep_decay = EPSILON_DECAY )\n",
        "  rewards_array[TARGET_UPDATE] = []\n",
        "  while True:\n",
        "      state = env.reset()\n",
        "      state = np.reshape(state, [1, n_states])\n",
        "      t_rewards = 0\n",
        "      step = 0\n",
        "      e += 1\n",
        "      while True:\n",
        "        \n",
        "      # env.render()\n",
        "          action = agent.select_action(state)\n",
        "          step += 1\n",
        "          next_state, reward, done, _ = env.step(action)\n",
        "          #reward = reward if not done else -10\n",
        "          t_rewards += reward\n",
        "          next_state = np.reshape(next_state, [1, n_states])\n",
        "          agent.memorize(state, action, reward, next_state, done)\n",
        "          state = next_state\n",
        "      \n",
        "          if step>MAX_MOVES:\n",
        "              if e%50==0:\n",
        "                  print(\"Over MAX_MOVES! episode: {}, score: {},Average Score:{} ,DONE at {}th steps \"\n",
        "                      .format(e, t_rewards, np.mean(rewards_array[TARGET_UPDATE][-100:]),step))\n",
        "              rewards_array[TARGET_UPDATE].append(t_rewards)\n",
        "              break\n",
        "          if done:\n",
        "              rewards_array[TARGET_UPDATE].append(t_rewards)\n",
        "              if e%50==0:\n",
        "                  print(\"episode: {}, score: {},Average Score:{} ,DONE at {}th steps \"\n",
        "                  .format(e, t_rewards, np.mean(rewards_array[TARGET_UPDATE][-100:]),step))\n",
        "              break\n",
        "          if len(agent.memory) > batch_size:\n",
        "              agent.replay(batch_size,e)\n",
        "        \n",
        "          if e%TARGET_UPDATE==0:\n",
        "              agent.update()\n",
        "          \n",
        "      if e>100 and np.mean(rewards_array[TARGET_UPDATE][-100:])>=TARGET_AVG_REWARD:\n",
        "          agent.save_model(f'dqn_defined_epsilon_update_{TARGET_UPDATE}')\n",
        "          print(\"model saved!\")\n",
        "          break\n",
        "  #loaded_m =keras.models.load_model('dqn')\n",
        "  #print(\"model loaded!\")"
      ],
      "execution_count": 7,
      "outputs": [
        {
          "output_type": "stream",
          "text": [
            "There are 8 states and 4 actions in the Environment\n"
          ],
          "name": "stdout"
        },
        {
          "output_type": "stream",
          "text": [
            "/usr/local/lib/python3.7/dist-packages/tensorflow/python/keras/engine/training.py:2325: UserWarning: `Model.state_updates` will be removed in a future version. This property should not be used in TensorFlow 2.0, as `updates` are applied automatically.\n",
            "  warnings.warn('`Model.state_updates` will be removed in a future version. '\n"
          ],
          "name": "stderr"
        },
        {
          "output_type": "stream",
          "text": [
            "episode: 50, score: -59.016918310914726,Average Score:-152.00169212870958 ,DONE at 136th steps \n",
            "episode: 100, score: -53.086130424643905,Average Score:-138.65571286614457 ,DONE at 1000th steps \n",
            "episode: 150, score: -220.05970582295083,Average Score:-72.53446448753273 ,DONE at 223th steps \n",
            "episode: 200, score: 93.74204394472318,Average Score:-10.811060733326046 ,DONE at 1000th steps \n",
            "episode: 250, score: 136.89660223131776,Average Score:25.570276751278726 ,DONE at 1000th steps \n",
            "episode: 300, score: -109.85336683126894,Average Score:87.61784414915293 ,DONE at 139th steps \n",
            "episode: 350, score: 195.75057510902155,Average Score:102.29070025590077 ,DONE at 870th steps \n",
            "episode: 400, score: 234.44137505299665,Average Score:37.327928031450085 ,DONE at 727th steps \n",
            "episode: 450, score: 247.47534676374582,Average Score:62.508991231304364 ,DONE at 893th steps \n",
            "episode: 500, score: 238.66311521184076,Average Score:140.50997939713397 ,DONE at 496th steps \n",
            "episode: 550, score: 228.64548577969725,Average Score:140.12794004472275 ,DONE at 317th steps \n",
            "episode: 600, score: 172.59328319774735,Average Score:145.19247382852436 ,DONE at 655th steps \n",
            "episode: 650, score: 193.75064626051028,Average Score:157.618978603522 ,DONE at 478th steps \n",
            "episode: 700, score: 279.91196264687414,Average Score:168.18688905746762 ,DONE at 345th steps \n",
            "episode: 750, score: -102.72730961160475,Average Score:175.7451108380419 ,DONE at 115th steps \n",
            "episode: 800, score: -246.9078946868654,Average Score:127.49825348444057 ,DONE at 181th steps \n",
            "episode: 850, score: 251.7350245251968,Average Score:124.03453949825989 ,DONE at 660th steps \n",
            "episode: 900, score: -15.311102316048078,Average Score:183.7264979446403 ,DONE at 207th steps \n",
            "INFO:tensorflow:Assets written to: dqn_defined_epsilon_update_10/assets\n",
            "model saved!\n"
          ],
          "name": "stdout"
        },
        {
          "output_type": "stream",
          "text": [
            "/usr/local/lib/python3.7/dist-packages/tensorflow/python/keras/engine/training.py:2325: UserWarning: `Model.state_updates` will be removed in a future version. This property should not be used in TensorFlow 2.0, as `updates` are applied automatically.\n",
            "  warnings.warn('`Model.state_updates` will be removed in a future version. '\n"
          ],
          "name": "stderr"
        },
        {
          "output_type": "stream",
          "text": [
            "episode: 950, score: -141.49840192583827,Average Score:-219.71598054034564 ,DONE at 157th steps \n",
            "episode: 1000, score: -65.0584455127627,Average Score:-155.12699621639578 ,DONE at 82th steps \n",
            "episode: 1050, score: -73.88323419933074,Average Score:-117.25963859317521 ,DONE at 1000th steps \n",
            "episode: 1100, score: -52.78655762902715,Average Score:-98.91758283526404 ,DONE at 1000th steps \n",
            "episode: 1150, score: -47.76508635483533,Average Score:-81.60262203315872 ,DONE at 1000th steps \n",
            "episode: 1200, score: 242.43165948335658,Average Score:-38.39517385274033 ,DONE at 551th steps \n",
            "episode: 1250, score: 296.9226921023555,Average Score:47.26604158166053 ,DONE at 231th steps \n",
            "episode: 1300, score: 206.42133433139423,Average Score:144.64890866466783 ,DONE at 197th steps \n",
            "INFO:tensorflow:Assets written to: dqn_defined_epsilon_update_20/assets\n",
            "model saved!\n"
          ],
          "name": "stdout"
        },
        {
          "output_type": "stream",
          "text": [
            "/usr/local/lib/python3.7/dist-packages/tensorflow/python/keras/engine/training.py:2325: UserWarning: `Model.state_updates` will be removed in a future version. This property should not be used in TensorFlow 2.0, as `updates` are applied automatically.\n",
            "  warnings.warn('`Model.state_updates` will be removed in a future version. '\n"
          ],
          "name": "stderr"
        },
        {
          "output_type": "stream",
          "text": [
            "episode: 1350, score: -717.8050880422629,Average Score:-477.35405823553737 ,DONE at 282th steps \n",
            "episode: 1400, score: -44.80807003775791,Average Score:-211.9830997240532 ,DONE at 1000th steps \n",
            "episode: 1450, score: -101.37406005982098,Average Score:-100.1833651894491 ,DONE at 1000th steps \n",
            "episode: 1500, score: 31.018675346304605,Average Score:-70.08359297133629 ,DONE at 78th steps \n",
            "episode: 1550, score: -68.28963402685112,Average Score:-65.75763483640623 ,DONE at 241th steps \n",
            "episode: 1600, score: -38.52307201666925,Average Score:-60.775005685329205 ,DONE at 1000th steps \n",
            "episode: 1650, score: 12.197777873389938,Average Score:-56.736156571813154 ,DONE at 98th steps \n",
            "episode: 1700, score: -88.0292048468951,Average Score:-88.4247982118138 ,DONE at 289th steps \n",
            "episode: 1750, score: 164.00928299400914,Average Score:-77.43955119268233 ,DONE at 880th steps \n",
            "episode: 1800, score: 236.82921302788083,Average Score:69.58674292133337 ,DONE at 575th steps \n",
            "episode: 1850, score: -78.88712988162827,Average Score:76.60779339529519 ,DONE at 1000th steps \n",
            "episode: 1900, score: 185.11474737694053,Average Score:37.265291369274124 ,DONE at 359th steps \n",
            "episode: 1950, score: 192.99528941691722,Average Score:134.94481291243312 ,DONE at 510th steps \n",
            "episode: 2000, score: 304.7294169690399,Average Score:168.59287785738624 ,DONE at 279th steps \n",
            "episode: 2050, score: 262.68622158505246,Average Score:191.37596600687698 ,DONE at 339th steps \n",
            "INFO:tensorflow:Assets written to: dqn_defined_epsilon_update_30/assets\n",
            "model saved!\n"
          ],
          "name": "stdout"
        }
      ]
    },
    {
      "cell_type": "code",
      "metadata": {
        "colab": {
          "base_uri": "https://localhost:8080/",
          "height": 295
        },
        "id": "0TvOC_Uz3pDl",
        "outputId": "0be28a63-bb0a-4208-bfac-705aecaa9258"
      },
      "source": [
        "\n",
        "import matplotlib.pyplot as plt\n",
        "%matplotlib inline\n",
        "\n",
        "plt.xlabel(\"Episodes #\")\n",
        "plt.ylabel(\"Rewards\")\n",
        "plt.title(\"Different Update Size with convergence and rewards\")\n",
        "for update_size in rewards_array:\n",
        "    plt.plot(range(len(rewards_array[update_size])),rewards_array[update_size],label = 'update size %d'%update_size)\n",
        "plt.legend()\n",
        "plt.show()\n"
      ],
      "execution_count": 9,
      "outputs": [
        {
          "output_type": "display_data",
          "data": {
            "image/png": "[encoded data removed]",
            "text/plain": [
              "<Figure size 432x288 with 1 Axes>"
            ]
          },
          "metadata": {
            "tags": [],
            "needs_background": "light"
          }
        }
      ]
    },
    {
      "cell_type": "code",
      "metadata": {
        "colab": {
          "base_uri": "https://localhost:8080/"
        },
        "id": "-Vszcq4-mhJ3",
        "outputId": "a64e05fd-b2b5-4378-ee6a-bc900dbe0889"
      },
      "source": [
        "test_reward = []\n",
        "agent_test = DQNAgent(n_states, n_actions, lr = LEARNING_RATE,gamma = GAMMA, ep = EPSILON, min_epsilon = MIN_EPSILON,ep_decay = EPSILON_DECAY )\n",
        "agent_test.q_local = keras.models.load_model('dqn_defined_epsilon_update_30')\n",
        "env = gym.make('LunarLander-v2')\n",
        "for i in range(100):\n",
        "    state = env.reset()\n",
        "    state = np.reshape(state, [1, n_states])\n",
        "    t_rewards = 0\n",
        "    while True:\n",
        "        action = agent_test.select_action_test(state)\n",
        "        next_state, reward, done, _ = env.step(action)\n",
        "        t_rewards += reward\n",
        "        next_state = np.reshape(next_state, [1, n_states])\n",
        "        #agent.memorize(state, action, reward, next_state, done)\n",
        "        state = next_state\n",
        "        if done:\n",
        "            test_reward.append(t_rewards)\n",
        "            #print(f\"{i}th reward:{t_rewards}\")   \n",
        "            break\n",
        "print(f\"average reward in testy {np.mean(test_reward)}\")"
      ],
      "execution_count": 13,
      "outputs": [
        {
          "output_type": "stream",
          "text": [
            "/usr/local/lib/python3.7/dist-packages/tensorflow/python/keras/engine/training.py:2325: UserWarning: `Model.state_updates` will be removed in a future version. This property should not be used in TensorFlow 2.0, as `updates` are applied automatically.\n",
            "  warnings.warn('`Model.state_updates` will be removed in a future version. '\n"
          ],
          "name": "stderr"
        },
        {
          "output_type": "stream",
          "text": [
            "average reward in testy 239.02727539800762\n"
          ],
          "name": "stdout"
        }
      ]
    },
    {
      "cell_type": "code",
      "metadata": {
        "colab": {
          "base_uri": "https://localhost:8080/"
        },
        "id": "K9HDPTCbogia",
        "outputId": "33c8d395-828c-4af4-bab2-7afd46a92ba3"
      },
      "source": [
        "test_reward = []\n",
        "agent_test = DQNAgent(n_states, n_actions, lr = LEARNING_RATE,gamma = GAMMA, ep = EPSILON, min_epsilon = MIN_EPSILON,ep_decay = EPSILON_DECAY )\n",
        "agent_test.q_local = keras.models.load_model('dqn_defined_epsilon_update_10')\n",
        "env = gym.make('LunarLander-v2')\n",
        "for i in range(100):\n",
        "    state = env.reset()\n",
        "    state = np.reshape(state, [1, n_states])\n",
        "    t_rewards = 0\n",
        "    while True:\n",
        "        action = agent_test.select_action_test(state)\n",
        "        next_state, reward, done, _ = env.step(action)\n",
        "        t_rewards += reward\n",
        "        next_state = np.reshape(next_state, [1, n_states])\n",
        "        #agent.memorize(state, action, reward, next_state, done)\n",
        "        state = next_state\n",
        "        if done:\n",
        "            test_reward.append(t_rewards)\n",
        "            #print(f\"{i}th reward:{t_rewards}\")   \n",
        "            break\n",
        "print(f\"average reward in testy {np.mean(test_reward)}\")"
      ],
      "execution_count": 14,
      "outputs": [
        {
          "output_type": "stream",
          "text": [
            "/usr/local/lib/python3.7/dist-packages/tensorflow/python/keras/engine/training.py:2325: UserWarning: `Model.state_updates` will be removed in a future version. This property should not be used in TensorFlow 2.0, as `updates` are applied automatically.\n",
            "  warnings.warn('`Model.state_updates` will be removed in a future version. '\n"
          ],
          "name": "stderr"
        },
        {
          "output_type": "stream",
          "text": [
            "average reward in testy 218.57569807027477\n"
          ],
          "name": "stdout"
        }
      ]
    },
    {
      "cell_type": "code",
      "metadata": {
        "id": "vnllVXlXqHQN"
      },
      "source": [
        ""
      ],
      "execution_count": null,
      "outputs": []
    }
  ]
}