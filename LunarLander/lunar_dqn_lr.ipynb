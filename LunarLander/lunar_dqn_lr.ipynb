{
  "nbformat": 4,
  "nbformat_minor": 0,
  "metadata": {
    "colab": {
      "name": "lunar_dqn_lr.ipynb",
      "provenance": []
    },
    "kernelspec": {
      "name": "python3",
      "display_name": "Python 3"
    }
  },
  "cells": [
    {
      "cell_type": "code",
      "metadata": {
        "colab": {
          "base_uri": "https://localhost:8080/"
        },
        "id": "TnuAOL886LgK",
        "outputId": "5ae3ed10-b138-4873-bb20-df4ca759eb28"
      },
      "source": [
        "!pip3 install box2d-py"
      ],
      "execution_count": 1,
      "outputs": [
        {
          "output_type": "stream",
          "text": [
            "Collecting box2d-py\n",
            "\u001b[?25l  Downloading https://files.pythonhosted.org/packages/87/34/da5393985c3ff9a76351df6127c275dcb5749ae0abbe8d5210f06d97405d/box2d_py-2.3.8-cp37-cp37m-manylinux1_x86_64.whl (448kB)\n",
            "\r\u001b[K     |▊                               | 10kB 12.8MB/s eta 0:00:01\r\u001b[K     |█▌                              | 20kB 13.9MB/s eta 0:00:01\r\u001b[K     |██▏                             | 30kB 9.7MB/s eta 0:00:01\r\u001b[K     |███                             | 40kB 7.6MB/s eta 0:00:01\r\u001b[K     |███▋                            | 51kB 4.2MB/s eta 0:00:01\r\u001b[K     |████▍                           | 61kB 4.7MB/s eta 0:00:01\r\u001b[K     |█████▏                          | 71kB 5.1MB/s eta 0:00:01\r\u001b[K     |█████▉                          | 81kB 5.5MB/s eta 0:00:01\r\u001b[K     |██████▋                         | 92kB 5.8MB/s eta 0:00:01\r\u001b[K     |███████▎                        | 102kB 5.5MB/s eta 0:00:01\r\u001b[K     |████████                        | 112kB 5.5MB/s eta 0:00:01\r\u001b[K     |████████▊                       | 122kB 5.5MB/s eta 0:00:01\r\u001b[K     |█████████▌                      | 133kB 5.5MB/s eta 0:00:01\r\u001b[K     |██████████▎                     | 143kB 5.5MB/s eta 0:00:01\r\u001b[K     |███████████                     | 153kB 5.5MB/s eta 0:00:01\r\u001b[K     |███████████▊                    | 163kB 5.5MB/s eta 0:00:01\r\u001b[K     |████████████▍                   | 174kB 5.5MB/s eta 0:00:01\r\u001b[K     |█████████████▏                  | 184kB 5.5MB/s eta 0:00:01\r\u001b[K     |█████████████▉                  | 194kB 5.5MB/s eta 0:00:01\r\u001b[K     |██████████████▋                 | 204kB 5.5MB/s eta 0:00:01\r\u001b[K     |███████████████▍                | 215kB 5.5MB/s eta 0:00:01\r\u001b[K     |████████████████                | 225kB 5.5MB/s eta 0:00:01\r\u001b[K     |████████████████▉               | 235kB 5.5MB/s eta 0:00:01\r\u001b[K     |█████████████████▌              | 245kB 5.5MB/s eta 0:00:01\r\u001b[K     |██████████████████▎             | 256kB 5.5MB/s eta 0:00:01\r\u001b[K     |███████████████████             | 266kB 5.5MB/s eta 0:00:01\r\u001b[K     |███████████████████▊            | 276kB 5.5MB/s eta 0:00:01\r\u001b[K     |████████████████████▌           | 286kB 5.5MB/s eta 0:00:01\r\u001b[K     |█████████████████████▏          | 296kB 5.5MB/s eta 0:00:01\r\u001b[K     |██████████████████████          | 307kB 5.5MB/s eta 0:00:01\r\u001b[K     |██████████████████████▋         | 317kB 5.5MB/s eta 0:00:01\r\u001b[K     |███████████████████████▍        | 327kB 5.5MB/s eta 0:00:01\r\u001b[K     |████████████████████████        | 337kB 5.5MB/s eta 0:00:01\r\u001b[K     |████████████████████████▉       | 348kB 5.5MB/s eta 0:00:01\r\u001b[K     |█████████████████████████▋      | 358kB 5.5MB/s eta 0:00:01\r\u001b[K     |██████████████████████████▎     | 368kB 5.5MB/s eta 0:00:01\r\u001b[K     |███████████████████████████     | 378kB 5.5MB/s eta 0:00:01\r\u001b[K     |███████████████████████████▊    | 389kB 5.5MB/s eta 0:00:01\r\u001b[K     |████████████████████████████▌   | 399kB 5.5MB/s eta 0:00:01\r\u001b[K     |█████████████████████████████▏  | 409kB 5.5MB/s eta 0:00:01\r\u001b[K     |██████████████████████████████  | 419kB 5.5MB/s eta 0:00:01\r\u001b[K     |██████████████████████████████▊ | 430kB 5.5MB/s eta 0:00:01\r\u001b[K     |███████████████████████████████▍| 440kB 5.5MB/s eta 0:00:01\r\u001b[K     |████████████████████████████████| 450kB 5.5MB/s \n",
            "\u001b[?25hInstalling collected packages: box2d-py\n",
            "Successfully installed box2d-py-2.3.8\n"
          ],
          "name": "stdout"
        }
      ]
    },
    {
      "cell_type": "code",
      "metadata": {
        "id": "jOoq7dce6Mgg"
      },
      "source": [
        "\n",
        "\"\"\"\n",
        "Import Libraryies\n",
        "\"\"\"\n",
        "import gym\n",
        "import numpy as np\n",
        "import collections\n",
        "import random\n",
        "import keras\n",
        "from keras.models import Sequential\n",
        "from keras.layers import Dense\n",
        "from keras.optimizers import Adam\n",
        "import tensorflow as tf\n",
        "from tensorflow.python.framework.ops import disable_eager_execution\n",
        "\n",
        "disable_eager_execution()\n"
      ],
      "execution_count": 2,
      "outputs": []
    },
    {
      "cell_type": "code",
      "metadata": {
        "id": "uhWfpov_6P-j"
      },
      "source": [
        "class DQNAgent:\n",
        "\n",
        "    def __init__(self, n_states, n_actions, lr, gamma, ep, min_epsilon,ep_decay):\n",
        "        \n",
        "        \"\"\"\n",
        "        parameters\n",
        "        \"\"\"\n",
        "        # environment\n",
        "        self.n_states = n_states\n",
        "        self.n_actions = n_actions\n",
        "        \n",
        "        # parameters\n",
        "        self.gamma = gamma # discount factor\n",
        "        self.epsilon = ep  # exploration rate\n",
        "        self.epsilon_min = min_epsilon\n",
        "        self.epsilon_decay = ep_decay\n",
        "        self.learning_rate = lr\n",
        "        self.memory = collections.deque(maxlen =50000)\n",
        "        self.replay_count = 0\n",
        "        \n",
        "        # local network and target network\n",
        "        self.q_local = self.build_dqn()\n",
        "        self.q_target = self.build_dqn()\n",
        "\n",
        "        \n",
        "  \n",
        "    def memorize(self, state, action, reward, next_state, done):\n",
        "        \n",
        "        self.memory.append((state, action, reward, next_state, done))\n",
        "    \n",
        "    def update(self):\n",
        "     # print(\"update target network\")\n",
        "      self.q_target.set_weights(self.q_local.get_weights())\n",
        "  \n",
        "    def select_action(self, state):\n",
        "        if np.random.rand()<=self.epsilon:\n",
        "            return np.random.choice(self.n_actions)\n",
        "        return np.argmax(self.q_local.predict(state)[0])\n",
        "    \n",
        "    def select_action_test(self, state):\n",
        "        return np.argmax(self.q_local.predict(state)[0])\n",
        "    \n",
        "    def replay(self, batch_size,step):\n",
        "        batch = random.sample(self.memory, batch_size)\n",
        "        #target_f = self.model.predict_on_batch(batch[0])\n",
        "        \n",
        "        \n",
        "        states = []\n",
        "        actions = []\n",
        "        next_states = []\n",
        "        rewards = []\n",
        "        finishes = []\n",
        "        for state, action, reward, next_state, done in batch:\n",
        "            states.append(state)\n",
        "            actions.append(action)\n",
        "            next_states.append(next_state)\n",
        "            rewards.append(reward)\n",
        "            finishes.append(done)\n",
        "        states = np.array(states)\n",
        "        actions = np.array(actions)\n",
        "        next_states = np.array(next_states)\n",
        "        rewards = np.array(rewards)\n",
        "        finishes = np.array(finishes)\n",
        "        states = np.squeeze(states)\n",
        "        next_states = np.squeeze(next_states)\n",
        "        \n",
        "        q_vals_next_state = self.q_target.predict_on_batch(next_states)\n",
        "        q_vals_target = self.q_local.predict_on_batch(states)\n",
        "        \n",
        "        max_q_values_next_state = np.amax(q_vals_next_state, axis=1)\n",
        "        q_vals_target[np.arange(batch_size), actions] = rewards + self.gamma * (max_q_values_next_state) * (1 - finishes)\n",
        "        self.q_local.fit(states, q_vals_target, verbose=0)\n",
        "        self.replay_count += 1\n",
        "      \n",
        "        \n",
        "        if 0<=step<=50:\n",
        "            self.epsilon = 0.5\n",
        "        elif 50<step<=100:\n",
        "            self.epsilon = 0.3\n",
        "        elif 100<step<=300:\n",
        "            self.epsilon = 0.2\n",
        "        elif 300<step<=500:\n",
        "            self.epsilon = 0.1\n",
        "        elif 500<step<=1000:\n",
        "            self.epsilon = 0.05\n",
        "        else:\n",
        "            self.epsilon = 0.01\n",
        "    \n",
        "    def build_dqn(self):      \n",
        "        \"\"\"\n",
        "        Q-function Approximator\n",
        "        \"\"\"\n",
        "        model = Sequential()\n",
        "        model.add(Dense(32, input_dim = self.n_states, activation='relu'))\n",
        "        model.add(Dense(64,  activation='relu'))\n",
        "        model.add(Dense(self.n_actions, activation='linear'))\n",
        "        model.compile(loss='mse', optimizer = Adam(lr=self.learning_rate))\n",
        "        return model\n",
        "\n",
        "    def save_model(self, name):\n",
        "        self.q_local.save(name)\n",
        "        "
      ],
      "execution_count": 3,
      "outputs": []
    },
    {
      "cell_type": "code",
      "metadata": {
        "colab": {
          "base_uri": "https://localhost:8080/"
        },
        "id": "GlGsFgLQ6QYL",
        "outputId": "a6842189-182c-4d81-bb97-d4acffc33d1e"
      },
      "source": [
        "\"\"\"\n",
        "Parameters\n",
        "\"\"\"\n",
        "\n",
        "MAX_MOVES =1000\n",
        "AVG_REWARD_LEN = 100\n",
        "TARGET_AVG_REWARD = 200\n",
        "BATCH_SIZE = 64\n",
        "LEARNING_RATE = 0.001\n",
        "GAMMA = 0.99\n",
        "EPSILON = 1.0\n",
        "MIN_EPSILON = 0.01\n",
        "EPSILON_DECAY = 0.05\n",
        "TARGET_UPDATE = 20\n",
        "\"\"\"\n",
        "Randomization Seeds\n",
        "\"\"\"\n",
        "random_seed = 0\n",
        "\n",
        "np.random.seed(random_seed)\n",
        "random.seed(random_seed)\n",
        "tf.random.set_seed(random_seed)\n",
        "\"\"\"\n",
        "Environment\n",
        "\"\"\"\n",
        "env = gym.make(\"LunarLander-v2\")\n",
        "n_states = env.observation_space.shape[0]\n",
        "n_actions = env.action_space.n\n",
        "print(f\"There are {n_states} states and {n_actions} actions in the Environment\")\n",
        "\n",
        "done = False\n",
        "batch_size = BATCH_SIZE\n",
        "\n",
        "e = 0\n",
        "\n",
        "\"\"\"\n",
        "Training DQN\n",
        "\"\"\"\n",
        "rewards_array = collections.defaultdict(list)\n",
        "for LEARNING_RATE in [0.001,0.0015,0.002]:\n",
        "  agent = DQNAgent(n_states, n_actions, lr = LEARNING_RATE,gamma = GAMMA, ep = EPSILON, min_epsilon = MIN_EPSILON,ep_decay = EPSILON_DECAY )\n",
        "\n",
        "  rewards_array[LEARNING_RATE] = []\n",
        "  while True:\n",
        "      state = env.reset()\n",
        "      state = np.reshape(state, [1, n_states])\n",
        "      t_rewards = 0\n",
        "      step = 0\n",
        "      e += 1\n",
        "      while True:\n",
        "        \n",
        "      # env.render()\n",
        "          action = agent.select_action(state)\n",
        "          step += 1\n",
        "          next_state, reward, done, _ = env.step(action)\n",
        "          #reward = reward if not done else -10\n",
        "          t_rewards += reward\n",
        "          next_state = np.reshape(next_state, [1, n_states])\n",
        "          agent.memorize(state, action, reward, next_state, done)\n",
        "          state = next_state\n",
        "      \n",
        "          if step>MAX_MOVES:\n",
        "              if e%50==0:\n",
        "                  print(\"Over MAX_MOVES! episode: {}, score: {},Average Score:{} ,DONE at {}th steps \"\n",
        "                      .format(e, t_rewards, np.mean(rewards_array[LEARNING_RATE][-100:]),step))\n",
        "              rewards_array[LEARNING_RATE].append(t_rewards)\n",
        "              break\n",
        "          if done:\n",
        "              rewards_array[LEARNING_RATE].append(t_rewards)\n",
        "              if e%50==0:\n",
        "                  print(\"episode: {}, score: {},Average Score:{} ,DONE at {}th steps \"\n",
        "                  .format(e, t_rewards, np.mean(rewards_array[LEARNING_RATE][-100:]),step))\n",
        "              break\n",
        "          if len(agent.memory) > batch_size:\n",
        "              agent.replay(batch_size,e)\n",
        "        \n",
        "          if e%TARGET_UPDATE==0:\n",
        "              agent.update()\n",
        "          \n",
        "      if e>100 and np.mean(rewards_array[LEARNING_RATE][-100:])>=TARGET_AVG_REWARD:\n",
        "          agent.save_model(f'dqn_lr_{LEARNING_RATE}')\n",
        "          print(\"model saved!\")\n",
        "          break\n",
        "  #loaded_m =keras.models.load_model('dqn')\n",
        "  #print(\"model loaded!\")"
      ],
      "execution_count": 5,
      "outputs": [
        {
          "output_type": "stream",
          "text": [
            "There are 8 states and 4 actions in the Environment\n"
          ],
          "name": "stdout"
        },
        {
          "output_type": "stream",
          "text": [
            "/usr/local/lib/python3.7/dist-packages/tensorflow/python/keras/engine/training.py:2325: UserWarning: `Model.state_updates` will be removed in a future version. This property should not be used in TensorFlow 2.0, as `updates` are applied automatically.\n",
            "  warnings.warn('`Model.state_updates` will be removed in a future version. '\n"
          ],
          "name": "stderr"
        },
        {
          "output_type": "stream",
          "text": [
            "episode: 50, score: 76.53746898265749,Average Score:-164.88621621777736 ,DONE at 214th steps \n",
            "episode: 100, score: -24.39541667683544,Average Score:-121.46731954563705 ,DONE at 165th steps \n",
            "episode: 150, score: -332.4945283745473,Average Score:-57.4317638493983 ,DONE at 80th steps \n",
            "episode: 200, score: -57.25169035073053,Average Score:4.271711515216762 ,DONE at 116th steps \n",
            "episode: 250, score: 175.79455157093435,Average Score:46.49722304175598 ,DONE at 868th steps \n",
            "episode: 300, score: -79.57595031107716,Average Score:25.349677122830894 ,DONE at 213th steps \n",
            "episode: 350, score: 251.43866864455106,Average Score:69.65385120466385 ,DONE at 338th steps \n",
            "episode: 400, score: 75.54035963320722,Average Score:167.50911680525184 ,DONE at 1000th steps \n",
            "INFO:tensorflow:Assets written to: dqn_lr_0.001/assets\n",
            "model saved!\n"
          ],
          "name": "stdout"
        },
        {
          "output_type": "stream",
          "text": [
            "/usr/local/lib/python3.7/dist-packages/tensorflow/python/keras/engine/training.py:2325: UserWarning: `Model.state_updates` will be removed in a future version. This property should not be used in TensorFlow 2.0, as `updates` are applied automatically.\n",
            "  warnings.warn('`Model.state_updates` will be removed in a future version. '\n"
          ],
          "name": "stderr"
        },
        {
          "output_type": "stream",
          "text": [
            "episode: 450, score: -0.2511494255993796,Average Score:-192.3887168361485 ,DONE at 141th steps \n",
            "episode: 500, score: -93.39794509340416,Average Score:-166.21242585462758 ,DONE at 1000th steps \n",
            "episode: 550, score: 6.74679765591265,Average Score:-123.4668375655122 ,DONE at 1000th steps \n",
            "episode: 600, score: -11.267064373012111,Average Score:-89.42943222579686 ,DONE at 1000th steps \n",
            "episode: 650, score: 207.97128478701433,Average Score:-43.33782664245895 ,DONE at 797th steps \n",
            "episode: 700, score: 204.5026961655879,Average Score:-22.057622223527645 ,DONE at 727th steps \n",
            "episode: 750, score: -19.108319300698778,Average Score:-16.491223047501844 ,DONE at 1000th steps \n",
            "episode: 800, score: 286.9554754399159,Average Score:65.43259242250382 ,DONE at 305th steps \n",
            "episode: 850, score: 286.23823576373803,Average Score:139.25021794153471 ,DONE at 282th steps \n",
            "episode: 900, score: 281.8520883988038,Average Score:119.59985232250989 ,DONE at 428th steps \n",
            "episode: 950, score: 253.16796057823555,Average Score:89.66553353605293 ,DONE at 248th steps \n",
            "episode: 1000, score: 269.0497101675728,Average Score:101.18492890396716 ,DONE at 307th steps \n",
            "episode: 1050, score: 267.46973674740076,Average Score:144.5787871869929 ,DONE at 398th steps \n",
            "episode: 1100, score: 280.15319853030695,Average Score:163.06640675017303 ,DONE at 328th steps \n",
            "episode: 1150, score: 229.87403579606394,Average Score:136.85555660886104 ,DONE at 271th steps \n",
            "episode: 1200, score: 258.77207987232475,Average Score:184.2271364139441 ,DONE at 230th steps \n",
            "INFO:tensorflow:Assets written to: dqn_lr_0.0015/assets\n",
            "model saved!\n"
          ],
          "name": "stdout"
        },
        {
          "output_type": "stream",
          "text": [
            "/usr/local/lib/python3.7/dist-packages/tensorflow/python/keras/engine/training.py:2325: UserWarning: `Model.state_updates` will be removed in a future version. This property should not be used in TensorFlow 2.0, as `updates` are applied automatically.\n",
            "  warnings.warn('`Model.state_updates` will be removed in a future version. '\n"
          ],
          "name": "stderr"
        },
        {
          "output_type": "stream",
          "text": [
            "episode: 1250, score: -218.89547208398034,Average Score:-239.15566437718488 ,DONE at 314th steps \n",
            "episode: 1300, score: -321.58408381263257,Average Score:-216.76208723433905 ,DONE at 363th steps \n",
            "episode: 1350, score: -109.6374868386351,Average Score:-155.38187975531235 ,DONE at 1000th steps \n",
            "episode: 1400, score: -212.57129455083708,Average Score:-126.46803738419909 ,DONE at 1000th steps \n",
            "episode: 1450, score: -25.33072679180811,Average Score:-134.18340667664125 ,DONE at 1000th steps \n",
            "episode: 1500, score: -20.612765263883944,Average Score:-102.17208236757219 ,DONE at 1000th steps \n",
            "episode: 1550, score: -79.15786492721337,Average Score:-80.41079871598203 ,DONE at 1000th steps \n",
            "episode: 1600, score: -18.915061479141446,Average Score:-87.54765961747927 ,DONE at 1000th steps \n",
            "episode: 1650, score: -586.0106942249092,Average Score:-132.73132483231603 ,DONE at 573th steps \n",
            "episode: 1700, score: -65.16326109017358,Average Score:-182.50158563106527 ,DONE at 1000th steps \n",
            "episode: 1750, score: -170.9042362423914,Average Score:-145.37278412940535 ,DONE at 801th steps \n",
            "episode: 1800, score: 250.8740212276948,Average Score:-22.62359223160477 ,DONE at 387th steps \n",
            "episode: 1850, score: -32.136727933391114,Average Score:66.69173758922311 ,DONE at 284th steps \n",
            "episode: 1900, score: -29.72407437627396,Average Score:127.57842943242571 ,DONE at 196th steps \n",
            "episode: 1950, score: 206.59840209900295,Average Score:194.22434881107142 ,DONE at 225th steps \n",
            "INFO:tensorflow:Assets written to: dqn_lr_0.002/assets\n",
            "model saved!\n"
          ],
          "name": "stdout"
        }
      ]
    },
    {
      "cell_type": "code",
      "metadata": {
        "colab": {
          "base_uri": "https://localhost:8080/",
          "height": 295
        },
        "id": "i_-83xrF6SEW",
        "outputId": "b5c2158f-3a8b-499c-9712-cc9402d2b16b"
      },
      "source": [
        "\n",
        "import matplotlib.pyplot as plt\n",
        "%matplotlib inline\n",
        "\n",
        "plt.xlabel(\"Episodes #\")\n",
        "plt.ylabel(\"Rewards\")\n",
        "plt.title(\"Different learning rate with convergence and rewards\")\n",
        "for lr in rewards_array:\n",
        "    plt.plot(range(len(rewards_array[lr])),rewards_array[lr],label = f'learning rate {lr}')\n",
        "plt.legend()\n",
        "plt.show()\n"
      ],
      "execution_count": 6,
      "outputs": [
        {
          "output_type": "display_data",
          "data": {
            "image/png": "[encoded data removed]",
            "text/plain": [
              "<Figure size 432x288 with 1 Axes>"
            ]
          },
          "metadata": {
            "tags": [],
            "needs_background": "light"
          }
        }
      ]
    },
    {
      "cell_type": "code",
      "metadata": {
        "id": "gEK0aP7slM-X"
      },
      "source": [
        ""
      ],
      "execution_count": null,
      "outputs": []
    }
  ]
}