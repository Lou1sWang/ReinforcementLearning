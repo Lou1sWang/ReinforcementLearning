{
  "nbformat": 4,
  "nbformat_minor": 0,
  "metadata": {
    "colab": {
      "name": "dqn_lunar_batchsize.ipynb",
      "provenance": []
    },
    "kernelspec": {
      "name": "python3",
      "display_name": "Python 3"
    }
  },
  "cells": [
    {
      "cell_type": "code",
      "metadata": {
        "colab": {
          "base_uri": "https://localhost:8080/"
        },
        "id": "BXfgsfDn4cXJ",
        "outputId": "045716d1-1573-483a-b1ed-9b08369b336f"
      },
      "source": [
        "!pip3 install box2d-py"
      ],
      "execution_count": 1,
      "outputs": [
        {
          "output_type": "stream",
          "text": [
            "Collecting box2d-py\n",
            "\u001b[?25l  Downloading https://files.pythonhosted.org/packages/87/34/da5393985c3ff9a76351df6127c275dcb5749ae0abbe8d5210f06d97405d/box2d_py-2.3.8-cp37-cp37m-manylinux1_x86_64.whl (448kB)\n",
            "\r\u001b[K     |▊                               | 10kB 15.5MB/s eta 0:00:01\r\u001b[K     |█▌                              | 20kB 14.9MB/s eta 0:00:01\r\u001b[K     |██▏                             | 30kB 11.6MB/s eta 0:00:01\r\u001b[K     |███                             | 40kB 8.5MB/s eta 0:00:01\r\u001b[K     |███▋                            | 51kB 4.7MB/s eta 0:00:01\r\u001b[K     |████▍                           | 61kB 5.4MB/s eta 0:00:01\r\u001b[K     |█████▏                          | 71kB 5.2MB/s eta 0:00:01\r\u001b[K     |█████▉                          | 81kB 5.5MB/s eta 0:00:01\r\u001b[K     |██████▋                         | 92kB 5.7MB/s eta 0:00:01\r\u001b[K     |███████▎                        | 102kB 5.6MB/s eta 0:00:01\r\u001b[K     |████████                        | 112kB 5.6MB/s eta 0:00:01\r\u001b[K     |████████▊                       | 122kB 5.6MB/s eta 0:00:01\r\u001b[K     |█████████▌                      | 133kB 5.6MB/s eta 0:00:01\r\u001b[K     |██████████▎                     | 143kB 5.6MB/s eta 0:00:01\r\u001b[K     |███████████                     | 153kB 5.6MB/s eta 0:00:01\r\u001b[K     |███████████▊                    | 163kB 5.6MB/s eta 0:00:01\r\u001b[K     |████████████▍                   | 174kB 5.6MB/s eta 0:00:01\r\u001b[K     |█████████████▏                  | 184kB 5.6MB/s eta 0:00:01\r\u001b[K     |█████████████▉                  | 194kB 5.6MB/s eta 0:00:01\r\u001b[K     |██████████████▋                 | 204kB 5.6MB/s eta 0:00:01\r\u001b[K     |███████████████▍                | 215kB 5.6MB/s eta 0:00:01\r\u001b[K     |████████████████                | 225kB 5.6MB/s eta 0:00:01\r\u001b[K     |████████████████▉               | 235kB 5.6MB/s eta 0:00:01\r\u001b[K     |█████████████████▌              | 245kB 5.6MB/s eta 0:00:01\r\u001b[K     |██████████████████▎             | 256kB 5.6MB/s eta 0:00:01\r\u001b[K     |███████████████████             | 266kB 5.6MB/s eta 0:00:01\r\u001b[K     |███████████████████▊            | 276kB 5.6MB/s eta 0:00:01\r\u001b[K     |████████████████████▌           | 286kB 5.6MB/s eta 0:00:01\r\u001b[K     |█████████████████████▏          | 296kB 5.6MB/s eta 0:00:01\r\u001b[K     |██████████████████████          | 307kB 5.6MB/s eta 0:00:01\r\u001b[K     |██████████████████████▋         | 317kB 5.6MB/s eta 0:00:01\r\u001b[K     |███████████████████████▍        | 327kB 5.6MB/s eta 0:00:01\r\u001b[K     |████████████████████████        | 337kB 5.6MB/s eta 0:00:01\r\u001b[K     |████████████████████████▉       | 348kB 5.6MB/s eta 0:00:01\r\u001b[K     |█████████████████████████▋      | 358kB 5.6MB/s eta 0:00:01\r\u001b[K     |██████████████████████████▎     | 368kB 5.6MB/s eta 0:00:01\r\u001b[K     |███████████████████████████     | 378kB 5.6MB/s eta 0:00:01\r\u001b[K     |███████████████████████████▊    | 389kB 5.6MB/s eta 0:00:01\r\u001b[K     |████████████████████████████▌   | 399kB 5.6MB/s eta 0:00:01\r\u001b[K     |█████████████████████████████▏  | 409kB 5.6MB/s eta 0:00:01\r\u001b[K     |██████████████████████████████  | 419kB 5.6MB/s eta 0:00:01\r\u001b[K     |██████████████████████████████▊ | 430kB 5.6MB/s eta 0:00:01\r\u001b[K     |███████████████████████████████▍| 440kB 5.6MB/s eta 0:00:01\r\u001b[K     |████████████████████████████████| 450kB 5.6MB/s \n",
            "\u001b[?25hInstalling collected packages: box2d-py\n",
            "Successfully installed box2d-py-2.3.8\n"
          ],
          "name": "stdout"
        }
      ]
    },
    {
      "cell_type": "code",
      "metadata": {
        "id": "E_Ix8_zt4gGR"
      },
      "source": [
        "\n",
        "\"\"\"\n",
        "Import Libraryies\n",
        "\"\"\"\n",
        "import gym\n",
        "import numpy as np\n",
        "import collections\n",
        "import random\n",
        "import keras\n",
        "from keras.models import Sequential\n",
        "from keras.layers import Dense\n",
        "from keras.optimizers import Adam\n",
        "import tensorflow as tf\n",
        "from tensorflow.python.framework.ops import disable_eager_execution\n",
        "\n",
        "disable_eager_execution()\n"
      ],
      "execution_count": 3,
      "outputs": []
    },
    {
      "cell_type": "code",
      "metadata": {
        "id": "ba4xZMdi4gI9"
      },
      "source": [
        "class DQNAgent:\n",
        "\n",
        "    def __init__(self, n_states, n_actions, lr, gamma, ep, min_epsilon,ep_decay):\n",
        "        \n",
        "        \"\"\"\n",
        "        parameters\n",
        "        \"\"\"\n",
        "        # environment\n",
        "        self.n_states = n_states\n",
        "        self.n_actions = n_actions\n",
        "        \n",
        "        # parameters\n",
        "        self.gamma = gamma # discount factor\n",
        "        self.epsilon = ep  # exploration rate\n",
        "        self.epsilon_min = min_epsilon\n",
        "        self.epsilon_decay = ep_decay\n",
        "        self.learning_rate = lr\n",
        "        self.memory = collections.deque(maxlen =50000)\n",
        "        self.replay_count = 0\n",
        "        \n",
        "        # local network and target network\n",
        "        self.q_local = self.build_dqn()\n",
        "        self.q_target = self.build_dqn()\n",
        "\n",
        "        \n",
        "  \n",
        "    def memorize(self, state, action, reward, next_state, done):\n",
        "        \n",
        "        self.memory.append((state, action, reward, next_state, done))\n",
        "    \n",
        "    def update(self):\n",
        "     # print(\"update target network\")\n",
        "      self.q_target.set_weights(self.q_local.get_weights())\n",
        "  \n",
        "    def select_action(self, state):\n",
        "        if np.random.rand()<=self.epsilon:\n",
        "            return np.random.choice(self.n_actions)\n",
        "        return np.argmax(self.q_local.predict(state)[0])\n",
        "    \n",
        "    def select_action_test(self, state):\n",
        "        return np.argmax(self.q_local.predict(state)[0])\n",
        "    \n",
        "    def replay(self, batch_size,step):\n",
        "        batch = random.sample(self.memory, batch_size)\n",
        "        #target_f = self.model.predict_on_batch(batch[0])\n",
        "        \n",
        "        \n",
        "        states = []\n",
        "        actions = []\n",
        "        next_states = []\n",
        "        rewards = []\n",
        "        finishes = []\n",
        "        for state, action, reward, next_state, done in batch:\n",
        "            states.append(state)\n",
        "            actions.append(action)\n",
        "            next_states.append(next_state)\n",
        "            rewards.append(reward)\n",
        "            finishes.append(done)\n",
        "        states = np.array(states)\n",
        "        actions = np.array(actions)\n",
        "        next_states = np.array(next_states)\n",
        "        rewards = np.array(rewards)\n",
        "        finishes = np.array(finishes)\n",
        "        states = np.squeeze(states)\n",
        "        next_states = np.squeeze(next_states)\n",
        "        \n",
        "        q_vals_next_state = self.q_target.predict_on_batch(next_states)\n",
        "        q_vals_target = self.q_local.predict_on_batch(states)\n",
        "        \n",
        "        max_q_values_next_state = np.amax(q_vals_next_state, axis=1)\n",
        "        q_vals_target[np.arange(batch_size), actions] = rewards + self.gamma * (max_q_values_next_state) * (1 - finishes)\n",
        "        self.q_local.fit(states, q_vals_target, verbose=0)\n",
        "        self.replay_count += 1\n",
        "\n",
        "        \n",
        "        if 0<=step<=50:\n",
        "            self.epsilon = 0.5\n",
        "        elif 50<step<=100:\n",
        "            self.epsilon = 0.3\n",
        "        elif 100<step<=300:\n",
        "            self.epsilon = 0.2\n",
        "        elif 300<step<=500:\n",
        "            self.epsilon = 0.1\n",
        "        elif 500<step<=1000:\n",
        "            self.epsilon = 0.05\n",
        "        else:\n",
        "            self.epsilon = 0.01\n",
        "    \n",
        "    def build_dqn(self):      \n",
        "        \"\"\"\n",
        "        Q-function Approximator\n",
        "        \"\"\"\n",
        "        model = Sequential()\n",
        "        model.add(Dense(32, input_dim = self.n_states, activation='relu'))\n",
        "        model.add(Dense(64,  activation='relu'))\n",
        "        model.add(Dense(self.n_actions, activation='linear'))\n",
        "        model.compile(loss='mse', optimizer = Adam(lr=self.learning_rate))\n",
        "        return model\n",
        "\n",
        "    def save_model(self, name):\n",
        "        self.q_local.save(name)"
      ],
      "execution_count": 4,
      "outputs": []
    },
    {
      "cell_type": "code",
      "metadata": {
        "colab": {
          "base_uri": "https://localhost:8080/"
        },
        "id": "Uuq8-FYx4gKu",
        "outputId": "71e67f6f-e018-433a-dcbc-5610ff011d8f"
      },
      "source": [
        "\"\"\"\n",
        "Parameters\n",
        "\"\"\"\n",
        "\n",
        "MAX_MOVES =1000\n",
        "AVG_REWARD_LEN = 100\n",
        "TARGET_AVG_REWARD = 200\n",
        "BATCH_SIZE = 64\n",
        "LEARNING_RATE = 0.001\n",
        "GAMMA = 0.99\n",
        "EPSILON = 1.0\n",
        "MIN_EPSILON = 0.01\n",
        "EPSILON_DECAY = 0.05\n",
        "TARGET_UPDATE = 20\n",
        "\"\"\"\n",
        "Randomization Seeds\n",
        "\"\"\"\n",
        "random_seed = 0\n",
        "\n",
        "np.random.seed(random_seed)\n",
        "random.seed(random_seed)\n",
        "tf.random.set_seed(random_seed)\n",
        "\"\"\"\n",
        "Environment\n",
        "\"\"\"\n",
        "env = gym.make(\"LunarLander-v2\")\n",
        "n_states = env.observation_space.shape[0]\n",
        "n_actions = env.action_space.n\n",
        "print(f\"There are {n_states} states and {n_actions} actions in the Environment\")\n",
        "\n",
        "done = False\n",
        "batch_size = BATCH_SIZE\n",
        "\n",
        "e = 0\n",
        "\n",
        "\"\"\"\n",
        "Training DQN\n",
        "\"\"\"\n",
        "rewards_array = collections.defaultdict(list)\n",
        "for batch_size in [32,64,128]:\n",
        "  agent = DQNAgent(n_states, n_actions, lr = LEARNING_RATE,gamma = GAMMA, ep = EPSILON, min_epsilon = MIN_EPSILON,ep_decay = EPSILON_DECAY )\n",
        "  rewards_array[batch_size] = []\n",
        "  while True:\n",
        "      state = env.reset()\n",
        "      state = np.reshape(state, [1, n_states])\n",
        "      t_rewards = 0\n",
        "      step = 0\n",
        "      e += 1\n",
        "      while True:\n",
        "        \n",
        "      # env.render()\n",
        "          action = agent.select_action(state)\n",
        "          step += 1\n",
        "          next_state, reward, done, _ = env.step(action)\n",
        "          #reward = reward if not done else -10\n",
        "          t_rewards += reward\n",
        "          next_state = np.reshape(next_state, [1, n_states])\n",
        "          agent.memorize(state, action, reward, next_state, done)\n",
        "          state = next_state\n",
        "      \n",
        "          if step>MAX_MOVES:\n",
        "              if e%50==0:\n",
        "                  print(\"Over MAX_MOVES! episode: {}, score: {},Average Score:{} ,DONE at {}th steps \"\n",
        "                      .format(e, t_rewards, np.mean(rewards_array[batch_size][-100:]),step))\n",
        "              rewards_array[batch_size].append(t_rewards)\n",
        "              break\n",
        "          if done:\n",
        "              rewards_array[batch_size].append(t_rewards)\n",
        "              if e%50==0:\n",
        "                  print(\"episode: {}, score: {},Average Score:{} ,DONE at {}th steps \"\n",
        "                  .format(e, t_rewards, np.mean(rewards_array[batch_size][-100:]),step))\n",
        "              break\n",
        "          if len(agent.memory) > batch_size:\n",
        "              agent.replay(batch_size,e)\n",
        "        \n",
        "          if e%TARGET_UPDATE==0:\n",
        "              agent.update()\n",
        "          \n",
        "      if e>100 and np.mean(rewards_array[batch_size][-100:])>=TARGET_AVG_REWARD:\n",
        "          agent.save_model(f'dqn_batch_size_{batch_size}')\n",
        "          print(\"model saved!\")\n",
        "          break\n",
        "  #loaded_m =keras.models.load_model('dqn')\n",
        "  #print(\"model loaded!\")"
      ],
      "execution_count": 7,
      "outputs": [
        {
          "output_type": "stream",
          "text": [
            "There are 8 states and 4 actions in the Environment\n"
          ],
          "name": "stdout"
        },
        {
          "output_type": "stream",
          "text": [
            "/usr/local/lib/python3.7/dist-packages/tensorflow/python/keras/engine/training.py:2325: UserWarning: `Model.state_updates` will be removed in a future version. This property should not be used in TensorFlow 2.0, as `updates` are applied automatically.\n",
            "  warnings.warn('`Model.state_updates` will be removed in a future version. '\n"
          ],
          "name": "stderr"
        },
        {
          "output_type": "stream",
          "text": [
            "episode: 50, score: -34.39600204457645,Average Score:-145.1926720974981 ,DONE at 177th steps \n",
            "episode: 100, score: 9.806549194573378,Average Score:-126.8663405890136 ,DONE at 1000th steps \n",
            "episode: 150, score: -24.87919523338996,Average Score:-107.76476053099978 ,DONE at 1000th steps \n",
            "episode: 200, score: 54.425767716102925,Average Score:-60.08677785739309 ,DONE at 1000th steps \n",
            "episode: 250, score: 11.15456931109363,Average Score:19.255113417135107 ,DONE at 1000th steps \n",
            "episode: 300, score: 61.506645543844044,Average Score:23.171853192433986 ,DONE at 1000th steps \n",
            "episode: 350, score: 144.9517311253653,Average Score:57.14549457193243 ,DONE at 545th steps \n",
            "episode: 400, score: 43.25503171945505,Average Score:107.35327849570992 ,DONE at 188th steps \n",
            "episode: 450, score: 209.58937056300272,Average Score:108.16649201596978 ,DONE at 641th steps \n",
            "episode: 500, score: 211.1926129886972,Average Score:104.76074714273025 ,DONE at 387th steps \n",
            "episode: 550, score: 292.65660675039646,Average Score:106.74310960854766 ,DONE at 242th steps \n",
            "episode: 600, score: 169.69774397832992,Average Score:126.48399107096388 ,DONE at 875th steps \n",
            "episode: 650, score: 30.93195292777782,Average Score:117.19416006607013 ,DONE at 1000th steps \n",
            "episode: 700, score: 243.26496863531133,Average Score:149.83418128600607 ,DONE at 369th steps \n",
            "episode: 750, score: 244.28777556437043,Average Score:176.780240856781 ,DONE at 411th steps \n",
            "episode: 800, score: 204.28419400201702,Average Score:176.17782188165063 ,DONE at 979th steps \n",
            "episode: 850, score: 211.60881991868303,Average Score:185.2766026449786 ,DONE at 713th steps \n",
            "episode: 900, score: 228.84426827037282,Average Score:169.17989315397674 ,DONE at 420th steps \n",
            "episode: 950, score: 249.40436215856747,Average Score:137.10144754083723 ,DONE at 375th steps \n",
            "episode: 1000, score: 211.25985563956215,Average Score:53.80102872353227 ,DONE at 882th steps \n",
            "episode: 1050, score: 233.55307162995052,Average Score:81.08134957290603 ,DONE at 382th steps \n",
            "episode: 1100, score: -72.18951237925634,Average Score:162.14585813069104 ,DONE at 1000th steps \n",
            "episode: 1150, score: 180.57768187035123,Average Score:151.8997535610108 ,DONE at 611th steps \n",
            "episode: 1200, score: 127.52135464708618,Average Score:140.5560327660171 ,DONE at 451th steps \n",
            "episode: 1250, score: 222.40286405731416,Average Score:74.86080869084999 ,DONE at 480th steps \n",
            "episode: 1300, score: 143.95830888252013,Average Score:30.510969322082147 ,DONE at 994th steps \n",
            "episode: 1350, score: 183.14743494149545,Average Score:41.67974636101602 ,DONE at 716th steps \n",
            "episode: 1400, score: 54.70676442028903,Average Score:50.24365869195628 ,DONE at 1000th steps \n",
            "episode: 1450, score: 159.30827962729512,Average Score:57.77500655796123 ,DONE at 608th steps \n",
            "episode: 1500, score: -38.44494203871847,Average Score:102.28576546612808 ,DONE at 1000th steps \n",
            "episode: 1550, score: 114.8539678917086,Average Score:32.19378001653677 ,DONE at 920th steps \n",
            "episode: 1600, score: -36.9144134215846,Average Score:-54.02174113294954 ,DONE at 1000th steps \n",
            "episode: 1650, score: -100.3605405302211,Average Score:7.4307890824834475 ,DONE at 722th steps \n",
            "episode: 1700, score: 169.49462407999488,Average Score:9.187736806906424 ,DONE at 870th steps \n",
            "episode: 1750, score: 199.4751004697696,Average Score:-13.356946653856989 ,DONE at 630th steps \n",
            "episode: 1800, score: 215.30342783699746,Average Score:67.57059181714443 ,DONE at 424th steps \n",
            "episode: 1850, score: 278.6915270611247,Average Score:172.13346619532877 ,DONE at 290th steps \n",
            "INFO:tensorflow:Assets written to: dqn_batch_size_32/assets\n",
            "model saved!\n"
          ],
          "name": "stdout"
        },
        {
          "output_type": "stream",
          "text": [
            "/usr/local/lib/python3.7/dist-packages/tensorflow/python/keras/engine/training.py:2325: UserWarning: `Model.state_updates` will be removed in a future version. This property should not be used in TensorFlow 2.0, as `updates` are applied automatically.\n",
            "  warnings.warn('`Model.state_updates` will be removed in a future version. '\n"
          ],
          "name": "stderr"
        },
        {
          "output_type": "stream",
          "text": [
            "episode: 1900, score: -69.64981840278683,Average Score:-181.90783402519338 ,DONE at 1000th steps \n",
            "episode: 1950, score: -33.872565834785604,Average Score:-119.0622909356363 ,DONE at 1000th steps \n",
            "episode: 2000, score: -132.55257214242448,Average Score:-86.36198032991842 ,DONE at 583th steps \n",
            "episode: 2050, score: -67.5195402133804,Average Score:-116.8380872893361 ,DONE at 1000th steps \n",
            "episode: 2100, score: -244.8660018273594,Average Score:-107.92103374894582 ,DONE at 1000th steps \n",
            "episode: 2150, score: -78.12908582201928,Average Score:-92.93463193072218 ,DONE at 1000th steps \n",
            "episode: 2200, score: -73.41731181131865,Average Score:-35.889219813698645 ,DONE at 829th steps \n",
            "episode: 2250, score: 233.87341494584476,Average Score:109.8355839864897 ,DONE at 680th steps \n",
            "episode: 2300, score: 184.81602252817993,Average Score:194.10449016924423 ,DONE at 859th steps \n",
            "episode: 2350, score: 273.96242634842,Average Score:191.1066260886165 ,DONE at 265th steps \n",
            "INFO:tensorflow:Assets written to: dqn_batch_size_64/assets\n",
            "model saved!\n"
          ],
          "name": "stdout"
        },
        {
          "output_type": "stream",
          "text": [
            "/usr/local/lib/python3.7/dist-packages/tensorflow/python/keras/engine/training.py:2325: UserWarning: `Model.state_updates` will be removed in a future version. This property should not be used in TensorFlow 2.0, as `updates` are applied automatically.\n",
            "  warnings.warn('`Model.state_updates` will be removed in a future version. '\n"
          ],
          "name": "stderr"
        },
        {
          "output_type": "stream",
          "text": [
            "episode: 2400, score: -189.75876395296328,Average Score:-229.32653459816586 ,DONE at 320th steps \n",
            "episode: 2450, score: -66.54425267737642,Average Score:-150.28514340023895 ,DONE at 1000th steps \n",
            "episode: 2500, score: -269.32554797736026,Average Score:-121.37690821127622 ,DONE at 197th steps \n",
            "episode: 2550, score: -142.91186965351932,Average Score:-136.63714188918547 ,DONE at 226th steps \n",
            "episode: 2600, score: -209.80302822437272,Average Score:-105.52426928936892 ,DONE at 896th steps \n",
            "episode: 2650, score: -109.34123819524922,Average Score:-119.31312537563467 ,DONE at 1000th steps \n",
            "episode: 2700, score: -213.3267998237741,Average Score:-137.10320204401202 ,DONE at 196th steps \n",
            "episode: 2750, score: -132.06636883444648,Average Score:-111.16938230802084 ,DONE at 1000th steps \n",
            "episode: 2800, score: 39.23618882174476,Average Score:-74.51040247197855 ,DONE at 1000th steps \n",
            "episode: 2850, score: -53.48580563292156,Average Score:-77.46042785662662 ,DONE at 1000th steps \n",
            "episode: 2900, score: -211.36855995161247,Average Score:-42.50543942068784 ,DONE at 963th steps \n",
            "episode: 2950, score: -65.294947566123,Average Score:-0.1862246418197094 ,DONE at 496th steps \n",
            "episode: 3000, score: 16.089321519377915,Average Score:27.949967132126762 ,DONE at 1000th steps \n",
            "episode: 3050, score: -356.13267866329767,Average Score:33.45969284395933 ,DONE at 556th steps \n",
            "episode: 3100, score: -137.21735042778565,Average Score:30.58748796975476 ,DONE at 144th steps \n",
            "episode: 3150, score: 170.31114199896786,Average Score:64.76380248509828 ,DONE at 560th steps \n",
            "episode: 3200, score: 244.5134869146804,Average Score:52.136260502697525 ,DONE at 527th steps \n",
            "episode: 3250, score: -202.68264628595614,Average Score:75.6124793905562 ,DONE at 690th steps \n",
            "episode: 3300, score: 281.1134564366522,Average Score:158.71382878822897 ,DONE at 355th steps \n",
            "episode: 3350, score: 292.0608965466034,Average Score:174.69123978082297 ,DONE at 304th steps \n",
            "episode: 3400, score: 30.339744444272753,Average Score:165.1068043508304 ,DONE at 172th steps \n",
            "episode: 3450, score: 243.5896177373914,Average Score:182.25400234308654 ,DONE at 214th steps \n",
            "episode: 3500, score: 257.2238189155818,Average Score:162.97315319764 ,DONE at 369th steps \n",
            "episode: 3550, score: 259.7150861850708,Average Score:151.82401448261652 ,DONE at 244th steps \n",
            "episode: 3600, score: -28.058573297752318,Average Score:181.71397903992 ,DONE at 113th steps \n",
            "INFO:tensorflow:Assets written to: dqn_batch_size_128/assets\n",
            "model saved!\n"
          ],
          "name": "stdout"
        }
      ]
    },
    {
      "cell_type": "code",
      "metadata": {
        "colab": {
          "base_uri": "https://localhost:8080/",
          "height": 295
        },
        "id": "KCZDaMu-4gM4",
        "outputId": "22a6a0be-a687-4950-a8d5-fe9473067c0d"
      },
      "source": [
        "\n",
        "import matplotlib.pyplot as plt\n",
        "%matplotlib inline\n",
        "\n",
        "plt.xlabel(\"Episodes #\")\n",
        "plt.ylabel(\"Rewards\")\n",
        "plt.title(\"Different Batch Size with convergence and rewards\")\n",
        "for batch_size in rewards_array:\n",
        "    plt.plot(range(len(rewards_array[batch_size])),rewards_array[batch_size],label = 'batch size size %d'%batch_size)\n",
        "plt.legend()\n",
        "plt.show()\n"
      ],
      "execution_count": 11,
      "outputs": [
        {
          "output_type": "display_data",
          "data": {
            "image/png": "[encoded data removed]",
            "text/plain": [
              "<Figure size 432x288 with 1 Axes>"
            ]
          },
          "metadata": {
            "tags": [],
            "needs_background": "light"
          }
        }
      ]
    },
    {
      "cell_type": "code",
      "metadata": {
        "id": "1Gg3Paip9kRY"
      },
      "source": [
        ""
      ],
      "execution_count": null,
      "outputs": []
    }
  ]
}